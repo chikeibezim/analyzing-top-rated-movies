{
 "cells": [
  {
   "cell_type": "code",
   "execution_count": 1,
   "id": "4a74e737",
   "metadata": {
    "_cell_guid": "b1076dfc-b9ad-4769-8c92-a6c4dae69d19",
    "_uuid": "8f2839f25d086af736a60e9eeb907d3b93b6e0e5",
    "execution": {
     "iopub.execute_input": "2023-03-06T15:32:38.708715Z",
     "iopub.status.busy": "2023-03-06T15:32:38.707819Z",
     "iopub.status.idle": "2023-03-06T15:32:38.728799Z",
     "shell.execute_reply": "2023-03-06T15:32:38.727552Z"
    },
    "papermill": {
     "duration": 0.030258,
     "end_time": "2023-03-06T15:32:38.731493",
     "exception": false,
     "start_time": "2023-03-06T15:32:38.701235",
     "status": "completed"
    },
    "tags": []
   },
   "outputs": [
    {
     "name": "stdout",
     "output_type": "stream",
     "text": [
      "/kaggle/input/tmdb-10000-movies-dataset/movies-tmdb-10000.csv\n"
     ]
    }
   ],
   "source": [
    "# This Python 3 environment comes with many helpful analytics libraries installed\n",
    "# It is defined by the kaggle/python Docker image: https://github.com/kaggle/docker-python\n",
    "# For example, here's several helpful packages to load\n",
    "\n",
    "import numpy as np # linear algebra\n",
    "import pandas as pd # data processing, CSV file I/O (e.g. pd.read_csv)\n",
    "\n",
    "# Input data files are available in the read-only \"../input/\" directory\n",
    "# For example, running this (by clicking run or pressing Shift+Enter) will list all files under the input directory\n",
    "\n",
    "import os\n",
    "for dirname, _, filenames in os.walk('/kaggle/input'):\n",
    "    for filename in filenames:\n",
    "        print(os.path.join(dirname, filename))\n",
    "\n",
    "# You can write up to 20GB to the current directory (/kaggle/working/) that gets preserved as output when you create a version using \"Save & Run All\" \n",
    "# You can also write temporary files to /kaggle/temp/, but they won't be saved outside of the current session"
   ]
  },
  {
   "cell_type": "code",
   "execution_count": 2,
   "id": "1d91ae20",
   "metadata": {
    "execution": {
     "iopub.execute_input": "2023-03-06T15:32:38.741117Z",
     "iopub.status.busy": "2023-03-06T15:32:38.740541Z",
     "iopub.status.idle": "2023-03-06T15:32:38.900636Z",
     "shell.execute_reply": "2023-03-06T15:32:38.899414Z"
    },
    "papermill": {
     "duration": 0.167489,
     "end_time": "2023-03-06T15:32:38.903073",
     "exception": false,
     "start_time": "2023-03-06T15:32:38.735584",
     "status": "completed"
    },
    "tags": []
   },
   "outputs": [
    {
     "data": {
      "text/html": [
       "<div>\n",
       "<style scoped>\n",
       "    .dataframe tbody tr th:only-of-type {\n",
       "        vertical-align: middle;\n",
       "    }\n",
       "\n",
       "    .dataframe tbody tr th {\n",
       "        vertical-align: top;\n",
       "    }\n",
       "\n",
       "    .dataframe thead th {\n",
       "        text-align: right;\n",
       "    }\n",
       "</style>\n",
       "<table border=\"1\" class=\"dataframe\">\n",
       "  <thead>\n",
       "    <tr style=\"text-align: right;\">\n",
       "      <th></th>\n",
       "      <th>Unnamed: 0</th>\n",
       "      <th>overview</th>\n",
       "      <th>release_date</th>\n",
       "      <th>vote_average</th>\n",
       "      <th>vote_count</th>\n",
       "      <th>original_language</th>\n",
       "      <th>popularity</th>\n",
       "    </tr>\n",
       "    <tr>\n",
       "      <th>title</th>\n",
       "      <th></th>\n",
       "      <th></th>\n",
       "      <th></th>\n",
       "      <th></th>\n",
       "      <th></th>\n",
       "      <th></th>\n",
       "      <th></th>\n",
       "    </tr>\n",
       "  </thead>\n",
       "  <tbody>\n",
       "    <tr>\n",
       "      <th>The Godfather</th>\n",
       "      <td>0</td>\n",
       "      <td>Spanning the years 1945 to 1955, a chronicle o...</td>\n",
       "      <td>1972-03-14</td>\n",
       "      <td>8.7</td>\n",
       "      <td>17537</td>\n",
       "      <td>en</td>\n",
       "      <td>103.429</td>\n",
       "    </tr>\n",
       "    <tr>\n",
       "      <th>The Shawshank Redemption</th>\n",
       "      <td>1</td>\n",
       "      <td>Framed in the 1940s for the double murder of h...</td>\n",
       "      <td>1994-09-23</td>\n",
       "      <td>8.7</td>\n",
       "      <td>23369</td>\n",
       "      <td>en</td>\n",
       "      <td>119.717</td>\n",
       "    </tr>\n",
       "    <tr>\n",
       "      <th>Cuando Sea Joven</th>\n",
       "      <td>2</td>\n",
       "      <td>70-year-old Malena gets a second chance at lif...</td>\n",
       "      <td>2022-09-14</td>\n",
       "      <td>8.7</td>\n",
       "      <td>208</td>\n",
       "      <td>es</td>\n",
       "      <td>44.971</td>\n",
       "    </tr>\n",
       "    <tr>\n",
       "      <th>The Boy, the Mole, the Fox and the Horse</th>\n",
       "      <td>3</td>\n",
       "      <td>The unlikely friendship of a boy, a mole, a fo...</td>\n",
       "      <td>2022-12-25</td>\n",
       "      <td>8.6</td>\n",
       "      <td>241</td>\n",
       "      <td>en</td>\n",
       "      <td>40.793</td>\n",
       "    </tr>\n",
       "    <tr>\n",
       "      <th>The Godfather Part II</th>\n",
       "      <td>4</td>\n",
       "      <td>In the continuing saga of the Corleone crime f...</td>\n",
       "      <td>1974-12-20</td>\n",
       "      <td>8.6</td>\n",
       "      <td>10619</td>\n",
       "      <td>en</td>\n",
       "      <td>61.662</td>\n",
       "    </tr>\n",
       "  </tbody>\n",
       "</table>\n",
       "</div>"
      ],
      "text/plain": [
       "                                          Unnamed: 0  \\\n",
       "title                                                  \n",
       "The Godfather                                      0   \n",
       "The Shawshank Redemption                           1   \n",
       "Cuando Sea Joven                                   2   \n",
       "The Boy, the Mole, the Fox and the Horse           3   \n",
       "The Godfather Part II                              4   \n",
       "\n",
       "                                                                                   overview  \\\n",
       "title                                                                                         \n",
       "The Godfather                             Spanning the years 1945 to 1955, a chronicle o...   \n",
       "The Shawshank Redemption                  Framed in the 1940s for the double murder of h...   \n",
       "Cuando Sea Joven                          70-year-old Malena gets a second chance at lif...   \n",
       "The Boy, the Mole, the Fox and the Horse  The unlikely friendship of a boy, a mole, a fo...   \n",
       "The Godfather Part II                     In the continuing saga of the Corleone crime f...   \n",
       "\n",
       "                                         release_date  vote_average  \\\n",
       "title                                                                 \n",
       "The Godfather                              1972-03-14           8.7   \n",
       "The Shawshank Redemption                   1994-09-23           8.7   \n",
       "Cuando Sea Joven                           2022-09-14           8.7   \n",
       "The Boy, the Mole, the Fox and the Horse   2022-12-25           8.6   \n",
       "The Godfather Part II                      1974-12-20           8.6   \n",
       "\n",
       "                                          vote_count original_language  \\\n",
       "title                                                                    \n",
       "The Godfather                                  17537                en   \n",
       "The Shawshank Redemption                       23369                en   \n",
       "Cuando Sea Joven                                 208                es   \n",
       "The Boy, the Mole, the Fox and the Horse         241                en   \n",
       "The Godfather Part II                          10619                en   \n",
       "\n",
       "                                          popularity  \n",
       "title                                                 \n",
       "The Godfather                                103.429  \n",
       "The Shawshank Redemption                     119.717  \n",
       "Cuando Sea Joven                              44.971  \n",
       "The Boy, the Mole, the Fox and the Horse      40.793  \n",
       "The Godfather Part II                         61.662  "
      ]
     },
     "execution_count": 2,
     "metadata": {},
     "output_type": "execute_result"
    }
   ],
   "source": [
    "movies_data = pd.read_csv(\"/kaggle/input/tmdb-10000-movies-dataset/movies-tmdb-10000.csv\", index_col=1)\n",
    "movies_data.head()"
   ]
  },
  {
   "cell_type": "code",
   "execution_count": 3,
   "id": "87fcfa9d",
   "metadata": {
    "execution": {
     "iopub.execute_input": "2023-03-06T15:32:38.914500Z",
     "iopub.status.busy": "2023-03-06T15:32:38.912899Z",
     "iopub.status.idle": "2023-03-06T15:32:38.962600Z",
     "shell.execute_reply": "2023-03-06T15:32:38.960974Z"
    },
    "papermill": {
     "duration": 0.058143,
     "end_time": "2023-03-06T15:32:38.965419",
     "exception": false,
     "start_time": "2023-03-06T15:32:38.907276",
     "status": "completed"
    },
    "tags": []
   },
   "outputs": [
    {
     "name": "stderr",
     "output_type": "stream",
     "text": [
      "/opt/conda/lib/python3.7/site-packages/ipykernel_launcher.py:6: SettingWithCopyWarning: \n",
      "A value is trying to be set on a copy of a slice from a DataFrame.\n",
      "Try using .loc[row_indexer,col_indexer] = value instead\n",
      "\n",
      "See the caveats in the documentation: https://pandas.pydata.org/pandas-docs/stable/user_guide/indexing.html#returning-a-view-versus-a-copy\n",
      "  \n"
     ]
    },
    {
     "data": {
      "text/plain": [
       "title\n",
       "The Sprinkler Sprinkled              False\n",
       "A Trip to the Moon                   False\n",
       "The Great Train Robbery              False\n",
       "The Right of Youth                   False\n",
       "The Birth of a Nation                False\n",
       "                                     ...  \n",
       "You People                           False\n",
       "JUNG_E                               False\n",
       "Knock at the Cabin                   False\n",
       "Your Place or Mine                   False\n",
       "Ant-Man and the Wasp: Quantumania    False\n",
       "Length: 10000, dtype: bool"
      ]
     },
     "execution_count": 3,
     "metadata": {},
     "output_type": "execute_result"
    }
   ],
   "source": [
    "# - Let's select the columns we're interested in and save as new dataframe\n",
    "\n",
    "movies_df = movies_data[[\"release_date\",\"vote_average\",\"vote_count\",\"original_language\", \"popularity\"]]\n",
    "\n",
    "# - let's sort the movies by date to see the date range of our data\n",
    "movies_df[\"release_date_conv\"] = pd.to_datetime(movies_df[\"release_date\"])\n",
    "\n",
    "# - Let's create a new column called release_year and save the years the movies where released\n",
    "# - We're trying to see the distribution of movies\n",
    "\n",
    "movies_df_sorted = movies_df.sort_values(\"release_date_conv\")\n",
    "movies_df_sorted[\"release_year\"] = movies_df_sorted[\"release_date_conv\"].dt.year\n",
    "\n",
    "# - Our dataframe contains movies released between 1895 and 2023\n",
    "\n",
    "# - Let's check for empty columns\n",
    "movies_df_sorted.isna().any() # - no empty columns in our dataset\n",
    "\n",
    "# - Check for duplicates\n",
    "movies_df_sorted.duplicated() # - no duplicate rows found"
   ]
  },
  {
   "cell_type": "markdown",
   "id": "0a348b8d",
   "metadata": {
    "papermill": {
     "duration": 0.004063,
     "end_time": "2023-03-06T15:32:38.976015",
     "exception": false,
     "start_time": "2023-03-06T15:32:38.971952",
     "status": "completed"
    },
    "tags": []
   },
   "source": [
    "Now that we're sure that our data is okay, let's do some basic analysis to get an initial or basic idea about our data. It'll be nice to see the the total number of top-rated movies released for each language"
   ]
  },
  {
   "cell_type": "code",
   "execution_count": 4,
   "id": "c701331c",
   "metadata": {
    "execution": {
     "iopub.execute_input": "2023-03-06T15:32:38.987658Z",
     "iopub.status.busy": "2023-03-06T15:32:38.987073Z",
     "iopub.status.idle": "2023-03-06T15:32:39.547651Z",
     "shell.execute_reply": "2023-03-06T15:32:39.546371Z"
    },
    "papermill": {
     "duration": 0.569728,
     "end_time": "2023-03-06T15:32:39.549969",
     "exception": false,
     "start_time": "2023-03-06T15:32:38.980241",
     "status": "completed"
    },
    "tags": []
   },
   "outputs": [
    {
     "data": {
      "image/png": "[encoded data removed]",
      "text/plain": [
       "<Figure size 640x480 with 1 Axes>"
      ]
     },
     "metadata": {},
     "output_type": "display_data"
    }
   ],
   "source": [
    "import numpy as np\n",
    "from matplotlib import pyplot as plt\n",
    "# - Create a pivot table that shows the total number of movies released for each langua\n",
    "movies_by_language = movies_df_sorted.groupby(\"original_language\")[\"release_date\"].count()\n",
    "\n",
    "# - We can display this information in a bar chart\n",
    "movies_by_language.plot(kind=\"bar\", xlabel=\"Original Language\", ylabel=\"Total Movies\", title=\"Top Movies by Original Language\")\n",
    "\n",
    "plt.show()"
   ]
  },
  {
   "cell_type": "markdown",
   "id": "a167f67c",
   "metadata": {
    "papermill": {
     "duration": 0.004468,
     "end_time": "2023-03-06T15:32:39.559327",
     "exception": false,
     "start_time": "2023-03-06T15:32:39.554859",
     "status": "completed"
    },
    "tags": []
   },
   "source": [
    "From the above chart, we can see that top-rated english movies are much more than others. The second is france and then italian movies. Because of the disparity between the english movies and others, we'll explore ways to compare the movies between languages to see  more insights into this data. First, Let's take a look at the the distribution of english movies across the time frames using a histogram."
   ]
  },
  {
   "cell_type": "code",
   "execution_count": 5,
   "id": "83df7bc7",
   "metadata": {
    "execution": {
     "iopub.execute_input": "2023-03-06T15:32:39.570709Z",
     "iopub.status.busy": "2023-03-06T15:32:39.569982Z",
     "iopub.status.idle": "2023-03-06T15:32:39.807259Z",
     "shell.execute_reply": "2023-03-06T15:32:39.806148Z"
    },
    "papermill": {
     "duration": 0.245834,
     "end_time": "2023-03-06T15:32:39.809812",
     "exception": false,
     "start_time": "2023-03-06T15:32:39.563978",
     "status": "completed"
    },
    "tags": []
   },
   "outputs": [
    {
     "data": {
      "image/png": "[encoded data removed]",
      "text/plain": [
       "<Figure size 640x480 with 1 Axes>"
      ]
     },
     "metadata": {},
     "output_type": "display_data"
    }
   ],
   "source": [
    "english_movies = movies_df_sorted[movies_df_sorted[\"original_language\"] == \"en\"]\n",
    "\n",
    "#let's plot a histogram showing the distribution of movies over the years\n",
    "english_movies[\"release_year\"].hist(bins=10)\n",
    "\n",
    "plt.xlabel(\"Years\")\n",
    "plt.ylabel(\"Movies\")\n",
    "plt.title(\"Distribution of movies across the years\")\n",
    "plt.show()"
   ]
  },
  {
   "cell_type": "markdown",
   "id": "ddcfbf75",
   "metadata": {
    "papermill": {
     "duration": 0.00493,
     "end_time": "2023-03-06T15:32:39.820231",
     "exception": false,
     "start_time": "2023-03-06T15:32:39.815301",
     "status": "completed"
    },
    "tags": []
   },
   "source": [
    "From the histogram above, we can see that across the decades, top rated english movies have grown at a significant rate. Let's compare this distribution with that of france next and try too make actual meaning of the growth rate. We will show this using a histogram as well "
   ]
  },
  {
   "cell_type": "code",
   "execution_count": 6,
   "id": "fe3abaee",
   "metadata": {
    "execution": {
     "iopub.execute_input": "2023-03-06T15:32:39.832424Z",
     "iopub.status.busy": "2023-03-06T15:32:39.831580Z",
     "iopub.status.idle": "2023-03-06T15:32:40.196971Z",
     "shell.execute_reply": "2023-03-06T15:32:40.196151Z"
    },
    "papermill": {
     "duration": 0.373896,
     "end_time": "2023-03-06T15:32:40.199173",
     "exception": false,
     "start_time": "2023-03-06T15:32:39.825277",
     "status": "completed"
    },
    "tags": []
   },
   "outputs": [
    {
     "data": {
      "image/png": "[encoded data removed]",
      "text/plain": [
       "<Figure size 640x480 with 1 Axes>"
      ]
     },
     "metadata": {},
     "output_type": "display_data"
    }
   ],
   "source": [
    "french_movies = movies_df_sorted[movies_df_sorted[\"original_language\"] == \"fr\"]\n",
    "\n",
    "#let's plot a histogram showing the distribution of movies over the years\n",
    "english_movies[\"release_year\"].hist(bins=10, density=True)\n",
    "french_movies[\"release_year\"].hist(bins=10, density=True)\n",
    "\n",
    "plt.xlabel(\"Years\")\n",
    "plt.legend([\"EN\",\"FR\"])\n",
    "plt.title(\"Distribution of between 1895 to 2023\")\n",
    "plt.show()"
   ]
  },
  {
   "cell_type": "markdown",
   "id": "e4a08ccc",
   "metadata": {
    "papermill": {
     "duration": 0.005452,
     "end_time": "2023-03-06T15:32:40.210488",
     "exception": false,
     "start_time": "2023-03-06T15:32:40.205036",
     "status": "completed"
    },
    "tags": []
   },
   "source": [
    "**From the histogram above, comparing the two languages we notice notice a few observations**\n",
    "- Though the number of engish movies released has been much more than the other languages, we can see that, french movies have actually made more significant growth in movie production than the english.\n",
    "- While English movies have been on a steady growth throughout the years, french movies experienced an increased production between 1959 and 1970, then a reduction for a long period between 1970 to 1997 (approx). Then a spike from that period till date; experiencing more growth in % movie produced than it's english conterparts."
   ]
  },
  {
   "cell_type": "markdown",
   "id": "350c102a",
   "metadata": {
    "papermill": {
     "duration": 0.005382,
     "end_time": "2023-03-06T15:32:40.221533",
     "exception": false,
     "start_time": "2023-03-06T15:32:40.216151",
     "status": "completed"
    },
    "tags": []
   },
   "source": [
    "With the following observations, we can go ahead to compare with other countries, but with the observations recorded above, there's something interisting we noticed. The spike in the movies produced in france from 1997 till date.\n",
    "Let's do some analysis on the french movie data to see any interesting reason for this growth or any correlation in our data."
   ]
  },
  {
   "cell_type": "code",
   "execution_count": 7,
   "id": "ca2247f2",
   "metadata": {
    "execution": {
     "iopub.execute_input": "2023-03-06T15:32:40.235505Z",
     "iopub.status.busy": "2023-03-06T15:32:40.234602Z",
     "iopub.status.idle": "2023-03-06T15:32:40.249401Z",
     "shell.execute_reply": "2023-03-06T15:32:40.248621Z"
    },
    "papermill": {
     "duration": 0.023975,
     "end_time": "2023-03-06T15:32:40.251538",
     "exception": false,
     "start_time": "2023-03-06T15:32:40.227563",
     "status": "completed"
    },
    "tags": []
   },
   "outputs": [
    {
     "data": {
      "text/html": [
       "<div>\n",
       "<style scoped>\n",
       "    .dataframe tbody tr th:only-of-type {\n",
       "        vertical-align: middle;\n",
       "    }\n",
       "\n",
       "    .dataframe tbody tr th {\n",
       "        vertical-align: top;\n",
       "    }\n",
       "\n",
       "    .dataframe thead th {\n",
       "        text-align: right;\n",
       "    }\n",
       "</style>\n",
       "<table border=\"1\" class=\"dataframe\">\n",
       "  <thead>\n",
       "    <tr style=\"text-align: right;\">\n",
       "      <th></th>\n",
       "      <th>release_date</th>\n",
       "      <th>vote_average</th>\n",
       "      <th>vote_count</th>\n",
       "      <th>original_language</th>\n",
       "      <th>popularity</th>\n",
       "      <th>release_date_conv</th>\n",
       "      <th>release_year</th>\n",
       "    </tr>\n",
       "    <tr>\n",
       "      <th>title</th>\n",
       "      <th></th>\n",
       "      <th></th>\n",
       "      <th></th>\n",
       "      <th></th>\n",
       "      <th></th>\n",
       "      <th></th>\n",
       "      <th></th>\n",
       "    </tr>\n",
       "  </thead>\n",
       "  <tbody>\n",
       "    <tr>\n",
       "      <th>The Sprinkler Sprinkled</th>\n",
       "      <td>1895-06-10</td>\n",
       "      <td>6.9</td>\n",
       "      <td>212</td>\n",
       "      <td>fr</td>\n",
       "      <td>5.523</td>\n",
       "      <td>1895-06-10</td>\n",
       "      <td>1895</td>\n",
       "    </tr>\n",
       "    <tr>\n",
       "      <th>A Trip to the Moon</th>\n",
       "      <td>1902-04-17</td>\n",
       "      <td>8.0</td>\n",
       "      <td>1479</td>\n",
       "      <td>fr</td>\n",
       "      <td>13.999</td>\n",
       "      <td>1902-04-17</td>\n",
       "      <td>1902</td>\n",
       "    </tr>\n",
       "    <tr>\n",
       "      <th>The Passion of Joan of Arc</th>\n",
       "      <td>1928-04-21</td>\n",
       "      <td>8.1</td>\n",
       "      <td>757</td>\n",
       "      <td>fr</td>\n",
       "      <td>8.831</td>\n",
       "      <td>1928-04-21</td>\n",
       "      <td>1928</td>\n",
       "    </tr>\n",
       "    <tr>\n",
       "      <th>Un Chien Andalou</th>\n",
       "      <td>1929-06-05</td>\n",
       "      <td>7.5</td>\n",
       "      <td>1090</td>\n",
       "      <td>fr</td>\n",
       "      <td>11.697</td>\n",
       "      <td>1929-06-05</td>\n",
       "      <td>1929</td>\n",
       "    </tr>\n",
       "    <tr>\n",
       "      <th>L'Âge d'Or</th>\n",
       "      <td>1930-11-28</td>\n",
       "      <td>6.8</td>\n",
       "      <td>245</td>\n",
       "      <td>fr</td>\n",
       "      <td>6.928</td>\n",
       "      <td>1930-11-28</td>\n",
       "      <td>1930</td>\n",
       "    </tr>\n",
       "  </tbody>\n",
       "</table>\n",
       "</div>"
      ],
      "text/plain": [
       "                           release_date  vote_average  vote_count  \\\n",
       "title                                                               \n",
       "The Sprinkler Sprinkled      1895-06-10           6.9         212   \n",
       "A Trip to the Moon           1902-04-17           8.0        1479   \n",
       "The Passion of Joan of Arc   1928-04-21           8.1         757   \n",
       "Un Chien Andalou             1929-06-05           7.5        1090   \n",
       "L'Âge d'Or                   1930-11-28           6.8         245   \n",
       "\n",
       "                           original_language  popularity release_date_conv  \\\n",
       "title                                                                        \n",
       "The Sprinkler Sprinkled                   fr       5.523        1895-06-10   \n",
       "A Trip to the Moon                        fr      13.999        1902-04-17   \n",
       "The Passion of Joan of Arc                fr       8.831        1928-04-21   \n",
       "Un Chien Andalou                          fr      11.697        1929-06-05   \n",
       "L'Âge d'Or                                fr       6.928        1930-11-28   \n",
       "\n",
       "                            release_year  \n",
       "title                                     \n",
       "The Sprinkler Sprinkled             1895  \n",
       "A Trip to the Moon                  1902  \n",
       "The Passion of Joan of Arc          1928  \n",
       "Un Chien Andalou                    1929  \n",
       "L'Âge d'Or                          1930  "
      ]
     },
     "execution_count": 7,
     "metadata": {},
     "output_type": "execute_result"
    }
   ],
   "source": [
    "# - Let's inspect our french movies dataset again\n",
    "french_movies.head()"
   ]
  },
  {
   "cell_type": "code",
   "execution_count": 8,
   "id": "90edaa7a",
   "metadata": {
    "execution": {
     "iopub.execute_input": "2023-03-06T15:32:40.265942Z",
     "iopub.status.busy": "2023-03-06T15:32:40.265323Z",
     "iopub.status.idle": "2023-03-06T15:32:40.506651Z",
     "shell.execute_reply": "2023-03-06T15:32:40.505544Z"
    },
    "papermill": {
     "duration": 0.251378,
     "end_time": "2023-03-06T15:32:40.509151",
     "exception": false,
     "start_time": "2023-03-06T15:32:40.257773",
     "status": "completed"
    },
    "tags": []
   },
   "outputs": [
    {
     "data": {
      "text/plain": [
       "<Figure size 1200x800 with 0 Axes>"
      ]
     },
     "metadata": {},
     "output_type": "display_data"
    },
    {
     "data": {
      "image/png": "[encoded data removed]",
      "text/plain": [
       "<Figure size 640x480 with 1 Axes>"
      ]
     },
     "metadata": {},
     "output_type": "display_data"
    }
   ],
   "source": [
    "# - Let's try to see if there's a correlation between movie_popularity and the release years.\n",
    "# - To do this, we can use a scatter plot\n",
    "plt.figure(figsize=(12,8))\n",
    "\n",
    "french_movies.plot(kind=\"scatter\", x=\"release_year\", y=\"popularity\")\n",
    "\n",
    "plt.xlabel(\"Release Year\")\n",
    "plt.ylabel(\"Popularity\")\n",
    "\n",
    "plt.grid()\n",
    "plt.show()"
   ]
  }
 ],
 "metadata": {
  "kernelspec": {
   "display_name": "Python 3",
   "language": "python",
   "name": "python3"
  },
  "language_info": {
   "codemirror_mode": {
    "name": "ipython",
    "version": 3
   },
   "file_extension": ".py",
   "mimetype": "text/x-python",
   "name": "python",
   "nbconvert_exporter": "python",
   "pygments_lexer": "ipython3",
   "version": "3.7.12"
  },
  "papermill": {
   "default_parameters": {},
   "duration": 12.244595,
   "end_time": "2023-03-06T15:32:41.137814",
   "environment_variables": {},
   "exception": null,
   "input_path": "__notebook__.ipynb",
   "output_path": "__notebook__.ipynb",
   "parameters": {},
   "start_time": "2023-03-06T15:32:28.893219",
   "version": "2.4.0"
  }
 },
 "nbformat": 4,
 "nbformat_minor": 5
}
